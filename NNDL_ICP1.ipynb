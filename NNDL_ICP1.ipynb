{
  "nbformat": 4,
  "nbformat_minor": 0,
  "metadata": {
    "colab": {
      "provenance": [],
      "toc_visible": true,
      "authorship_tag": "ABX9TyNTCSCulkXJ5e0o8l9LXpg0",
      "include_colab_link": true
    },
    "kernelspec": {
      "name": "python3",
      "display_name": "Python 3"
    },
    "language_info": {
      "name": "python"
    }
  },
  "cells": [
    {
      "cell_type": "markdown",
      "metadata": {
        "id": "view-in-github",
        "colab_type": "text"
      },
      "source": [
        "<a href=\"https://colab.research.google.com/github/Manasa-Sairi/NN-DL-ICP1/blob/main/NNDL_ICP1.ipynb\" target=\"_parent\"><img src=\"https://colab.research.google.com/assets/colab-badge.svg\" alt=\"Open In Colab\"/></a>"
      ]
    },
    {
      "cell_type": "code",
      "execution_count": 9,
      "metadata": {
        "colab": {
          "base_uri": "https://localhost:8080/"
        },
        "id": "FAeh2AFx3K5G",
        "outputId": "2d344545-6167-4402-fc8f-fc2f15002f4f"
      },
      "outputs": [
        {
          "output_type": "stream",
          "name": "stdout",
          "text": [
            "enter a word \n",
            "network\n",
            "owten\n"
          ]
        }
      ],
      "source": [
        "# QUE 1A\n",
        "\n",
        "ipString = input(\"enter a word \\n\")\n",
        "opString = (ipString[:-2])[::-1]    # ([:-2] - to remove last 2 characters of string ) ([::-1] - to reverse a string )\n",
        "print (opString)"
      ]
    },
    {
      "cell_type": "code",
      "source": [
        "# QUE 1B\n",
        "\n",
        "num1 = int(input(\"enter 1st number \\n\"))\n",
        "num2 = int(input(\"enter 2nd number \\n\"))\n",
        "sum = num1 + num2\n",
        "diff = num1 - num2\n",
        "prod = num1 * num2\n",
        "pow = num1 ** num2\n",
        "print (\"sum : \", sum)\n",
        "print (\"difference : \", diff)\n",
        "print (\"product : \", prod)\n",
        "print (\"num1 power num2 : \", pow)"
      ],
      "metadata": {
        "colab": {
          "base_uri": "https://localhost:8080/"
        },
        "id": "se09jv7c7IJb",
        "outputId": "b9bbafe0-a300-4c3c-d7db-cb1e3d8b69ca"
      },
      "execution_count": 10,
      "outputs": [
        {
          "output_type": "stream",
          "name": "stdout",
          "text": [
            "enter 1st number \n",
            "2\n",
            "enter 2nd number \n",
            "6\n",
            "sum :  8\n",
            "difference :  -4\n",
            "product :  12\n",
            "num1 power num2 :  64\n"
          ]
        }
      ]
    },
    {
      "cell_type": "code",
      "source": [
        "# QUE 2\n",
        "\n",
        "ipString = str(input(\"enter a sentence \\n\"))\n",
        "opString = ipString.replace(\"python\", \"pythons\")\n",
        "print (opString)"
      ],
      "metadata": {
        "colab": {
          "base_uri": "https://localhost:8080/"
        },
        "id": "eTTsb9AU7NWk",
        "outputId": "986c70a6-6127-41e4-ef10-0b7910523799"
      },
      "execution_count": 11,
      "outputs": [
        {
          "output_type": "stream",
          "name": "stdout",
          "text": [
            "enter a sentence \n",
            "i love playing with python\n",
            "i love playing with pythons\n"
          ]
        }
      ]
    },
    {
      "cell_type": "code",
      "source": [
        "# QUE 3\n",
        "\n",
        "classScore = int(input(\"enter class score \\n\"))\n",
        "\n",
        "if ((classScore >= 90) and (classScore < 100)) :\n",
        "  print(\"GRADE A\")\n",
        "elif ((classScore >= 80) and (classScore < 90)) :\n",
        "  print(\"GRADE B\")\n",
        "elif ((classScore >= 70) and (classScore < 80)) :\n",
        "  print(\"GRADE C\")\n",
        "elif ((classScore >= 60) and (classScore < 70)) :\n",
        "  print(\"GRADE D\")\n",
        "elif ((classScore >= 0) and (classScore < 60)) :\n",
        "  print(\"GRADE F\")\n",
        "else:\n",
        "  print(\"INVALID INPUT\")\n"
      ],
      "metadata": {
        "colab": {
          "base_uri": "https://localhost:8080/"
        },
        "id": "CFtZvuQW7VQ6",
        "outputId": "692367e2-72cc-4873-a227-2282caf1a092"
      },
      "execution_count": 12,
      "outputs": [
        {
          "output_type": "stream",
          "name": "stdout",
          "text": [
            "enter class score \n",
            "98\n",
            "GRADE A\n"
          ]
        }
      ]
    }
  ]
}